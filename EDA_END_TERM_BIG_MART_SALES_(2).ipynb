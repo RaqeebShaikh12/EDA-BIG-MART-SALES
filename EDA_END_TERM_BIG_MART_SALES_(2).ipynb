{
  "cells": [
    {
      "cell_type": "markdown",
      "metadata": {
        "id": "view-in-github",
        "colab_type": "text"
      },
      "source": [
        "<a href=\"https://colab.research.google.com/github/RaqeebShaikh12/EDA-BIG-MART-SALES/blob/main/EDA_END_TERM_BIG_MART_SALES_(2).ipynb\" target=\"_parent\"><img src=\"https://colab.research.google.com/assets/colab-badge.svg\" alt=\"Open In Colab\"/></a>"
      ]
    },
    {
      "cell_type": "markdown",
      "id": "e07ae155",
      "metadata": {
        "id": "e07ae155"
      },
      "source": [
        "<div>\n",
        "<img src=\"https://getfranchise.at/wp-content/uploads/2018/05/bigmart-1024x768.jpg\" width=\"500\"/>\n",
        "</div>"
      ]
    },
    {
      "cell_type": "markdown",
      "id": "d5b80201",
      "metadata": {
        "id": "d5b80201"
      },
      "source": [
        "## INTRODUCTION"
      ]
    },
    {
      "cell_type": "markdown",
      "id": "6e04d27f",
      "metadata": {
        "id": "6e04d27f"
      },
      "source": [
        "We will be working on big mart sales dataset and try to find the insights for the company to make buisness decisions through exploratory data analysis to predict sales."
      ]
    },
    {
      "cell_type": "markdown",
      "id": "588de73c",
      "metadata": {
        "id": "588de73c"
      },
      "source": [
        "### Problem Statement"
      ]
    },
    {
      "cell_type": "markdown",
      "id": "83658f70",
      "metadata": {
        "id": "83658f70"
      },
      "source": [
        "The data scientists at BigMart have collected sales data for 1559 products across 10 stores in different cities for the year 2013. Now each product has certain attributes that sets it apart from other products."
      ]
    },
    {
      "cell_type": "markdown",
      "id": "d14c8b6e",
      "metadata": {
        "id": "d14c8b6e"
      },
      "source": [
        "<div>\n",
        "<img src=\"https://nepalijob.com/wp-content/uploads/2018/05/bigmart-600x450.jpg\" width=\"300\"/>\n",
        "</div>"
      ]
    },
    {
      "cell_type": "markdown",
      "id": "de7d22aa",
      "metadata": {
        "id": "de7d22aa"
      },
      "source": [
        "### DATA ID"
      ]
    },
    {
      "cell_type": "markdown",
      "id": "2c218f95",
      "metadata": {
        "id": "2c218f95"
      },
      "source": [
        "This dataset is named [BigMart Sales](https://www.kaggle.com/brijbhushannanda1979/bigmart-sales-data). The dataset contains a set of **8,523 records** under  **12 attributes**."
      ]
    },
    {
      "cell_type": "markdown",
      "id": "c2d429ba",
      "metadata": {
        "id": "c2d429ba"
      },
      "source": [
        "| Column Name                         | Description                                                    |\n",
        "|------------------                   |----------------------------------------------------------------|\n",
        "| `Item_Identifier`                   | Unique product ID                                              |\n",
        "| `Item_Weight`                       | Weight of product                                              |\n",
        "| `Item_Fat_Content`                  | Checks the Concentration of fat in the product                 |\n",
        "| `Item_Visibility`                   | The % of total display area of all similar products in a store |\n",
        "| `Item_Type`                         | Product Category                                               |\n",
        "| `Item_MRP`                          | Maximum Retail Price for a Product                             |\n",
        "| `Outlet_Identifier`                 | Store ID                                                       |\n",
        "| `Outlet_Establishment_Year`         | The year in which store was established                        |\n",
        "| `Outlet_Size`                       | The size of the store (Area Size Category)                     |\n",
        "| `Outlet_Location_Type`              | In Terms of city Tiers (Size)                                  |\n",
        "| `Outlet_Type`                       | Grocery store or a type of    supermarket                      |\n",
        "| `Item_Outlet_Sales`                 | Sales of the product In the Specific outlet                    |\n",
        "\n",
        "Our main target is `Item_Outlet_Sales`."
      ]
    },
    {
      "cell_type": "markdown",
      "id": "4841e336",
      "metadata": {
        "id": "4841e336"
      },
      "source": [
        "### LIBRARIES"
      ]
    },
    {
      "cell_type": "markdown",
      "id": "8dcc5d4d",
      "metadata": {
        "id": "8dcc5d4d"
      },
      "source": [
        "<div>\n",
        "    <img src=\"https://th.bing.com/th/id/R.2cc1b7fa037996d004237bacba758d5c?rik=HLnYSGyc7fMLAw&riu=http%3a%2f%2f3.bp.blogspot.com%2f-56ZBPQwiGdo%2fTeVf_FwEcNI%2fAAAAAAAAARw%2fN8AgOjtusTs%2fs1600%2flibrary.jpg&ehk=Yel8TDBetqaaVmuI%2f8FISnhiBQ2B2y%2b27bTp6QjeRw0%3d&risl=&pid=ImgRaw&r=0\" width=\"300\"/>\n",
        "    </div>"
      ]
    },
    {
      "cell_type": "code",
      "execution_count": 1,
      "id": "8f7ddffa",
      "metadata": {
        "id": "8f7ddffa"
      },
      "outputs": [],
      "source": [
        "#Importing python library\n",
        "import pandas as pd\n",
        "import numpy as np\n",
        "import matplotlib.pyplot as plt\n",
        "import seaborn as sns\n",
        "\n",
        "#Importing Warning\n",
        "import warnings\n",
        "warnings.filterwarnings(\"ignore\")"
      ]
    },
    {
      "cell_type": "code",
      "source": [
        "from google.colab import drive\n",
        "drive.mount('/content/drive')"
      ],
      "metadata": {
        "colab": {
          "base_uri": "https://localhost:8080/"
        },
        "id": "KhblC_aiQ-ty",
        "outputId": "82198975-54a8-4e38-8ec6-5ca4ac762e41"
      },
      "id": "KhblC_aiQ-ty",
      "execution_count": 2,
      "outputs": [
        {
          "output_type": "stream",
          "name": "stdout",
          "text": [
            "Mounted at /content/drive\n"
          ]
        }
      ]
    },
    {
      "cell_type": "markdown",
      "id": "ae1b38c6",
      "metadata": {
        "id": "ae1b38c6"
      },
      "source": [
        "Now, read csv file using pandas library."
      ]
    },
    {
      "cell_type": "code",
      "execution_count": 3,
      "id": "2425b356",
      "metadata": {
        "id": "2425b356"
      },
      "outputs": [],
      "source": [
        "inp0=pd.read_csv(\"/content/drive/MyDrive/csv files/BigMartSales.csv\")\n"
      ]
    },
    {
      "cell_type": "code",
      "execution_count": 4,
      "id": "0ca5767c",
      "metadata": {
        "colab": {
          "base_uri": "https://localhost:8080/",
          "height": 206
        },
        "id": "0ca5767c",
        "outputId": "4e0b5574-1282-4471-9a81-fc7d02b78814"
      },
      "outputs": [
        {
          "output_type": "execute_result",
          "data": {
            "text/plain": [
              "  Item_Identifier  Item_Weight Item_Fat_Content  Item_Visibility  \\\n",
              "0           FDA15         9.30          Low Fat         0.016047   \n",
              "1           DRC01         5.92          Regular         0.019278   \n",
              "2           FDN15        17.50          Low Fat         0.016760   \n",
              "3           FDX07        19.20          Regular         0.000000   \n",
              "4           NCD19         8.93          Low Fat         0.000000   \n",
              "\n",
              "               Item_Type  Item_MRP Outlet_Identifier  \\\n",
              "0                  Dairy  249.8092            OUT049   \n",
              "1            Soft Drinks   48.2692            OUT018   \n",
              "2                   Meat  141.6180            OUT049   \n",
              "3  Fruits and Vegetables  182.0950            OUT010   \n",
              "4              Household   53.8614            OUT013   \n",
              "\n",
              "   Outlet_Establishment_Year Outlet_Size Outlet_Location_Type  \\\n",
              "0                       1999      Medium               Tier 1   \n",
              "1                       2009      Medium               Tier 3   \n",
              "2                       1999      Medium               Tier 1   \n",
              "3                       1998         NaN               Tier 3   \n",
              "4                       1987        High               Tier 3   \n",
              "\n",
              "         Outlet_Type  Item_Outlet_Sales  \n",
              "0  Supermarket Type1          3735.1380  \n",
              "1  Supermarket Type2           443.4228  \n",
              "2  Supermarket Type1          2097.2700  \n",
              "3      Grocery Store           732.3800  \n",
              "4  Supermarket Type1           994.7052  "
            ],
            "text/html": [
              "\n",
              "  <div id=\"df-50880cda-12b1-4287-b380-08bf3d935a33\">\n",
              "    <div class=\"colab-df-container\">\n",
              "      <div>\n",
              "<style scoped>\n",
              "    .dataframe tbody tr th:only-of-type {\n",
              "        vertical-align: middle;\n",
              "    }\n",
              "\n",
              "    .dataframe tbody tr th {\n",
              "        vertical-align: top;\n",
              "    }\n",
              "\n",
              "    .dataframe thead th {\n",
              "        text-align: right;\n",
              "    }\n",
              "</style>\n",
              "<table border=\"1\" class=\"dataframe\">\n",
              "  <thead>\n",
              "    <tr style=\"text-align: right;\">\n",
              "      <th></th>\n",
              "      <th>Item_Identifier</th>\n",
              "      <th>Item_Weight</th>\n",
              "      <th>Item_Fat_Content</th>\n",
              "      <th>Item_Visibility</th>\n",
              "      <th>Item_Type</th>\n",
              "      <th>Item_MRP</th>\n",
              "      <th>Outlet_Identifier</th>\n",
              "      <th>Outlet_Establishment_Year</th>\n",
              "      <th>Outlet_Size</th>\n",
              "      <th>Outlet_Location_Type</th>\n",
              "      <th>Outlet_Type</th>\n",
              "      <th>Item_Outlet_Sales</th>\n",
              "    </tr>\n",
              "  </thead>\n",
              "  <tbody>\n",
              "    <tr>\n",
              "      <th>0</th>\n",
              "      <td>FDA15</td>\n",
              "      <td>9.30</td>\n",
              "      <td>Low Fat</td>\n",
              "      <td>0.016047</td>\n",
              "      <td>Dairy</td>\n",
              "      <td>249.8092</td>\n",
              "      <td>OUT049</td>\n",
              "      <td>1999</td>\n",
              "      <td>Medium</td>\n",
              "      <td>Tier 1</td>\n",
              "      <td>Supermarket Type1</td>\n",
              "      <td>3735.1380</td>\n",
              "    </tr>\n",
              "    <tr>\n",
              "      <th>1</th>\n",
              "      <td>DRC01</td>\n",
              "      <td>5.92</td>\n",
              "      <td>Regular</td>\n",
              "      <td>0.019278</td>\n",
              "      <td>Soft Drinks</td>\n",
              "      <td>48.2692</td>\n",
              "      <td>OUT018</td>\n",
              "      <td>2009</td>\n",
              "      <td>Medium</td>\n",
              "      <td>Tier 3</td>\n",
              "      <td>Supermarket Type2</td>\n",
              "      <td>443.4228</td>\n",
              "    </tr>\n",
              "    <tr>\n",
              "      <th>2</th>\n",
              "      <td>FDN15</td>\n",
              "      <td>17.50</td>\n",
              "      <td>Low Fat</td>\n",
              "      <td>0.016760</td>\n",
              "      <td>Meat</td>\n",
              "      <td>141.6180</td>\n",
              "      <td>OUT049</td>\n",
              "      <td>1999</td>\n",
              "      <td>Medium</td>\n",
              "      <td>Tier 1</td>\n",
              "      <td>Supermarket Type1</td>\n",
              "      <td>2097.2700</td>\n",
              "    </tr>\n",
              "    <tr>\n",
              "      <th>3</th>\n",
              "      <td>FDX07</td>\n",
              "      <td>19.20</td>\n",
              "      <td>Regular</td>\n",
              "      <td>0.000000</td>\n",
              "      <td>Fruits and Vegetables</td>\n",
              "      <td>182.0950</td>\n",
              "      <td>OUT010</td>\n",
              "      <td>1998</td>\n",
              "      <td>NaN</td>\n",
              "      <td>Tier 3</td>\n",
              "      <td>Grocery Store</td>\n",
              "      <td>732.3800</td>\n",
              "    </tr>\n",
              "    <tr>\n",
              "      <th>4</th>\n",
              "      <td>NCD19</td>\n",
              "      <td>8.93</td>\n",
              "      <td>Low Fat</td>\n",
              "      <td>0.000000</td>\n",
              "      <td>Household</td>\n",
              "      <td>53.8614</td>\n",
              "      <td>OUT013</td>\n",
              "      <td>1987</td>\n",
              "      <td>High</td>\n",
              "      <td>Tier 3</td>\n",
              "      <td>Supermarket Type1</td>\n",
              "      <td>994.7052</td>\n",
              "    </tr>\n",
              "  </tbody>\n",
              "</table>\n",
              "</div>\n",
              "      <button class=\"colab-df-convert\" onclick=\"convertToInteractive('df-50880cda-12b1-4287-b380-08bf3d935a33')\"\n",
              "              title=\"Convert this dataframe to an interactive table.\"\n",
              "              style=\"display:none;\">\n",
              "        \n",
              "  <svg xmlns=\"http://www.w3.org/2000/svg\" height=\"24px\"viewBox=\"0 0 24 24\"\n",
              "       width=\"24px\">\n",
              "    <path d=\"M0 0h24v24H0V0z\" fill=\"none\"/>\n",
              "    <path d=\"M18.56 5.44l.94 2.06.94-2.06 2.06-.94-2.06-.94-.94-2.06-.94 2.06-2.06.94zm-11 1L8.5 8.5l.94-2.06 2.06-.94-2.06-.94L8.5 2.5l-.94 2.06-2.06.94zm10 10l.94 2.06.94-2.06 2.06-.94-2.06-.94-.94-2.06-.94 2.06-2.06.94z\"/><path d=\"M17.41 7.96l-1.37-1.37c-.4-.4-.92-.59-1.43-.59-.52 0-1.04.2-1.43.59L10.3 9.45l-7.72 7.72c-.78.78-.78 2.05 0 2.83L4 21.41c.39.39.9.59 1.41.59.51 0 1.02-.2 1.41-.59l7.78-7.78 2.81-2.81c.8-.78.8-2.07 0-2.86zM5.41 20L4 18.59l7.72-7.72 1.47 1.35L5.41 20z\"/>\n",
              "  </svg>\n",
              "      </button>\n",
              "      \n",
              "  <style>\n",
              "    .colab-df-container {\n",
              "      display:flex;\n",
              "      flex-wrap:wrap;\n",
              "      gap: 12px;\n",
              "    }\n",
              "\n",
              "    .colab-df-convert {\n",
              "      background-color: #E8F0FE;\n",
              "      border: none;\n",
              "      border-radius: 50%;\n",
              "      cursor: pointer;\n",
              "      display: none;\n",
              "      fill: #1967D2;\n",
              "      height: 32px;\n",
              "      padding: 0 0 0 0;\n",
              "      width: 32px;\n",
              "    }\n",
              "\n",
              "    .colab-df-convert:hover {\n",
              "      background-color: #E2EBFA;\n",
              "      box-shadow: 0px 1px 2px rgba(60, 64, 67, 0.3), 0px 1px 3px 1px rgba(60, 64, 67, 0.15);\n",
              "      fill: #174EA6;\n",
              "    }\n",
              "\n",
              "    [theme=dark] .colab-df-convert {\n",
              "      background-color: #3B4455;\n",
              "      fill: #D2E3FC;\n",
              "    }\n",
              "\n",
              "    [theme=dark] .colab-df-convert:hover {\n",
              "      background-color: #434B5C;\n",
              "      box-shadow: 0px 1px 3px 1px rgba(0, 0, 0, 0.15);\n",
              "      filter: drop-shadow(0px 1px 2px rgba(0, 0, 0, 0.3));\n",
              "      fill: #FFFFFF;\n",
              "    }\n",
              "  </style>\n",
              "\n",
              "      <script>\n",
              "        const buttonEl =\n",
              "          document.querySelector('#df-50880cda-12b1-4287-b380-08bf3d935a33 button.colab-df-convert');\n",
              "        buttonEl.style.display =\n",
              "          google.colab.kernel.accessAllowed ? 'block' : 'none';\n",
              "\n",
              "        async function convertToInteractive(key) {\n",
              "          const element = document.querySelector('#df-50880cda-12b1-4287-b380-08bf3d935a33');\n",
              "          const dataTable =\n",
              "            await google.colab.kernel.invokeFunction('convertToInteractive',\n",
              "                                                     [key], {});\n",
              "          if (!dataTable) return;\n",
              "\n",
              "          const docLinkHtml = 'Like what you see? Visit the ' +\n",
              "            '<a target=\"_blank\" href=https://colab.research.google.com/notebooks/data_table.ipynb>data table notebook</a>'\n",
              "            + ' to learn more about interactive tables.';\n",
              "          element.innerHTML = '';\n",
              "          dataTable['output_type'] = 'display_data';\n",
              "          await google.colab.output.renderOutput(dataTable, element);\n",
              "          const docLink = document.createElement('div');\n",
              "          docLink.innerHTML = docLinkHtml;\n",
              "          element.appendChild(docLink);\n",
              "        }\n",
              "      </script>\n",
              "    </div>\n",
              "  </div>\n",
              "  "
            ]
          },
          "metadata": {},
          "execution_count": 4
        }
      ],
      "source": [
        "inp0.head()"
      ]
    },
    {
      "cell_type": "markdown",
      "id": "05c5f8d5",
      "metadata": {
        "id": "05c5f8d5"
      },
      "source": [
        "We use **head()** method to get the top 5 rows of the dataset. If we want to see n rows from top then we have to write head(n). "
      ]
    },
    {
      "cell_type": "markdown",
      "id": "8f13d996",
      "metadata": {
        "id": "8f13d996"
      },
      "source": [
        "### DATA ANALYSIS"
      ]
    },
    {
      "cell_type": "code",
      "execution_count": 47,
      "id": "787c2819",
      "metadata": {
        "id": "787c2819",
        "outputId": "a7346a73-4cab-44f5-cd74-de20dbe0f7fb",
        "colab": {
          "base_uri": "https://localhost:8080/"
        }
      },
      "outputs": [
        {
          "output_type": "execute_result",
          "data": {
            "text/plain": [
              "(8523, 10)"
            ]
          },
          "metadata": {},
          "execution_count": 47
        }
      ],
      "source": [
        "inp0.shape"
      ]
    },
    {
      "cell_type": "markdown",
      "id": "906d3b86",
      "metadata": {
        "id": "906d3b86"
      },
      "source": [
        "We use **shape** to find the number of rows and columns in the dataset. In this dataset there are 8523 rows and 12 columns."
      ]
    },
    {
      "cell_type": "code",
      "execution_count": 48,
      "id": "39f28485",
      "metadata": {
        "id": "39f28485",
        "outputId": "9fc89d24-e9e8-4825-e19c-d2c37df270f1",
        "colab": {
          "base_uri": "https://localhost:8080/"
        }
      },
      "outputs": [
        {
          "output_type": "stream",
          "name": "stdout",
          "text": [
            "<class 'pandas.core.frame.DataFrame'>\n",
            "RangeIndex: 8523 entries, 0 to 8522\n",
            "Data columns (total 10 columns):\n",
            " #   Column                     Non-Null Count  Dtype  \n",
            "---  ------                     --------------  -----  \n",
            " 0   Item_Weight                8523 non-null   float64\n",
            " 1   Item_Fat_Content           8523 non-null   object \n",
            " 2   Item_Visibility            8523 non-null   float64\n",
            " 3   Item_Type                  8523 non-null   object \n",
            " 4   Item_MRP                   8523 non-null   float64\n",
            " 5   Outlet_Establishment_Year  8523 non-null   int64  \n",
            " 6   Outlet_Size                8523 non-null   object \n",
            " 7   Outlet_Location_Type       8523 non-null   object \n",
            " 8   Outlet_Type                8523 non-null   object \n",
            " 9   Item_Outlet_Sales          8523 non-null   float64\n",
            "dtypes: float64(4), int64(1), object(5)\n",
            "memory usage: 666.0+ KB\n"
          ]
        }
      ],
      "source": [
        "inp0.info()"
      ]
    },
    {
      "cell_type": "markdown",
      "id": "80afcbe0",
      "metadata": {
        "id": "80afcbe0"
      },
      "source": [
        "We use **info()** method to get the data types of columns. In this **1 int**, **4 float** & **7 object** data types are used. In this you can also see that `Item_Weight` and `Outlet_Size` have some missing values we have to deal with them also before analysing."
      ]
    },
    {
      "cell_type": "code",
      "execution_count": 49,
      "id": "5e198065",
      "metadata": {
        "id": "5e198065",
        "outputId": "23cdab28-b032-44d9-f51a-0bd946be0365",
        "colab": {
          "base_uri": "https://localhost:8080/",
          "height": 300
        }
      },
      "outputs": [
        {
          "output_type": "execute_result",
          "data": {
            "text/plain": [
              "       Item_Weight  Item_Visibility     Item_MRP  Outlet_Establishment_Year  \\\n",
              "count  8523.000000      8523.000000  8523.000000                8523.000000   \n",
              "mean     12.857645         0.066132   140.992782                1997.831867   \n",
              "std       4.226124         0.051598    62.275067                   8.371760   \n",
              "min       4.555000         0.000000    31.290000                1985.000000   \n",
              "25%       9.310000         0.026989    93.826500                1987.000000   \n",
              "50%      12.857645         0.053931   143.012800                1999.000000   \n",
              "75%      16.000000         0.094585   185.643700                2004.000000   \n",
              "max      21.350000         0.328391   266.888400                2009.000000   \n",
              "\n",
              "       Item_Outlet_Sales  \n",
              "count        8523.000000  \n",
              "mean         2181.288914  \n",
              "std          1706.499616  \n",
              "min            33.290000  \n",
              "25%           834.247400  \n",
              "50%          1794.331000  \n",
              "75%          3101.296400  \n",
              "max         13086.964800  "
            ],
            "text/html": [
              "\n",
              "  <div id=\"df-67b48cb7-1022-498d-9e8c-b6d1269b4f17\">\n",
              "    <div class=\"colab-df-container\">\n",
              "      <div>\n",
              "<style scoped>\n",
              "    .dataframe tbody tr th:only-of-type {\n",
              "        vertical-align: middle;\n",
              "    }\n",
              "\n",
              "    .dataframe tbody tr th {\n",
              "        vertical-align: top;\n",
              "    }\n",
              "\n",
              "    .dataframe thead th {\n",
              "        text-align: right;\n",
              "    }\n",
              "</style>\n",
              "<table border=\"1\" class=\"dataframe\">\n",
              "  <thead>\n",
              "    <tr style=\"text-align: right;\">\n",
              "      <th></th>\n",
              "      <th>Item_Weight</th>\n",
              "      <th>Item_Visibility</th>\n",
              "      <th>Item_MRP</th>\n",
              "      <th>Outlet_Establishment_Year</th>\n",
              "      <th>Item_Outlet_Sales</th>\n",
              "    </tr>\n",
              "  </thead>\n",
              "  <tbody>\n",
              "    <tr>\n",
              "      <th>count</th>\n",
              "      <td>8523.000000</td>\n",
              "      <td>8523.000000</td>\n",
              "      <td>8523.000000</td>\n",
              "      <td>8523.000000</td>\n",
              "      <td>8523.000000</td>\n",
              "    </tr>\n",
              "    <tr>\n",
              "      <th>mean</th>\n",
              "      <td>12.857645</td>\n",
              "      <td>0.066132</td>\n",
              "      <td>140.992782</td>\n",
              "      <td>1997.831867</td>\n",
              "      <td>2181.288914</td>\n",
              "    </tr>\n",
              "    <tr>\n",
              "      <th>std</th>\n",
              "      <td>4.226124</td>\n",
              "      <td>0.051598</td>\n",
              "      <td>62.275067</td>\n",
              "      <td>8.371760</td>\n",
              "      <td>1706.499616</td>\n",
              "    </tr>\n",
              "    <tr>\n",
              "      <th>min</th>\n",
              "      <td>4.555000</td>\n",
              "      <td>0.000000</td>\n",
              "      <td>31.290000</td>\n",
              "      <td>1985.000000</td>\n",
              "      <td>33.290000</td>\n",
              "    </tr>\n",
              "    <tr>\n",
              "      <th>25%</th>\n",
              "      <td>9.310000</td>\n",
              "      <td>0.026989</td>\n",
              "      <td>93.826500</td>\n",
              "      <td>1987.000000</td>\n",
              "      <td>834.247400</td>\n",
              "    </tr>\n",
              "    <tr>\n",
              "      <th>50%</th>\n",
              "      <td>12.857645</td>\n",
              "      <td>0.053931</td>\n",
              "      <td>143.012800</td>\n",
              "      <td>1999.000000</td>\n",
              "      <td>1794.331000</td>\n",
              "    </tr>\n",
              "    <tr>\n",
              "      <th>75%</th>\n",
              "      <td>16.000000</td>\n",
              "      <td>0.094585</td>\n",
              "      <td>185.643700</td>\n",
              "      <td>2004.000000</td>\n",
              "      <td>3101.296400</td>\n",
              "    </tr>\n",
              "    <tr>\n",
              "      <th>max</th>\n",
              "      <td>21.350000</td>\n",
              "      <td>0.328391</td>\n",
              "      <td>266.888400</td>\n",
              "      <td>2009.000000</td>\n",
              "      <td>13086.964800</td>\n",
              "    </tr>\n",
              "  </tbody>\n",
              "</table>\n",
              "</div>\n",
              "      <button class=\"colab-df-convert\" onclick=\"convertToInteractive('df-67b48cb7-1022-498d-9e8c-b6d1269b4f17')\"\n",
              "              title=\"Convert this dataframe to an interactive table.\"\n",
              "              style=\"display:none;\">\n",
              "        \n",
              "  <svg xmlns=\"http://www.w3.org/2000/svg\" height=\"24px\"viewBox=\"0 0 24 24\"\n",
              "       width=\"24px\">\n",
              "    <path d=\"M0 0h24v24H0V0z\" fill=\"none\"/>\n",
              "    <path d=\"M18.56 5.44l.94 2.06.94-2.06 2.06-.94-2.06-.94-.94-2.06-.94 2.06-2.06.94zm-11 1L8.5 8.5l.94-2.06 2.06-.94-2.06-.94L8.5 2.5l-.94 2.06-2.06.94zm10 10l.94 2.06.94-2.06 2.06-.94-2.06-.94-.94-2.06-.94 2.06-2.06.94z\"/><path d=\"M17.41 7.96l-1.37-1.37c-.4-.4-.92-.59-1.43-.59-.52 0-1.04.2-1.43.59L10.3 9.45l-7.72 7.72c-.78.78-.78 2.05 0 2.83L4 21.41c.39.39.9.59 1.41.59.51 0 1.02-.2 1.41-.59l7.78-7.78 2.81-2.81c.8-.78.8-2.07 0-2.86zM5.41 20L4 18.59l7.72-7.72 1.47 1.35L5.41 20z\"/>\n",
              "  </svg>\n",
              "      </button>\n",
              "      \n",
              "  <style>\n",
              "    .colab-df-container {\n",
              "      display:flex;\n",
              "      flex-wrap:wrap;\n",
              "      gap: 12px;\n",
              "    }\n",
              "\n",
              "    .colab-df-convert {\n",
              "      background-color: #E8F0FE;\n",
              "      border: none;\n",
              "      border-radius: 50%;\n",
              "      cursor: pointer;\n",
              "      display: none;\n",
              "      fill: #1967D2;\n",
              "      height: 32px;\n",
              "      padding: 0 0 0 0;\n",
              "      width: 32px;\n",
              "    }\n",
              "\n",
              "    .colab-df-convert:hover {\n",
              "      background-color: #E2EBFA;\n",
              "      box-shadow: 0px 1px 2px rgba(60, 64, 67, 0.3), 0px 1px 3px 1px rgba(60, 64, 67, 0.15);\n",
              "      fill: #174EA6;\n",
              "    }\n",
              "\n",
              "    [theme=dark] .colab-df-convert {\n",
              "      background-color: #3B4455;\n",
              "      fill: #D2E3FC;\n",
              "    }\n",
              "\n",
              "    [theme=dark] .colab-df-convert:hover {\n",
              "      background-color: #434B5C;\n",
              "      box-shadow: 0px 1px 3px 1px rgba(0, 0, 0, 0.15);\n",
              "      filter: drop-shadow(0px 1px 2px rgba(0, 0, 0, 0.3));\n",
              "      fill: #FFFFFF;\n",
              "    }\n",
              "  </style>\n",
              "\n",
              "      <script>\n",
              "        const buttonEl =\n",
              "          document.querySelector('#df-67b48cb7-1022-498d-9e8c-b6d1269b4f17 button.colab-df-convert');\n",
              "        buttonEl.style.display =\n",
              "          google.colab.kernel.accessAllowed ? 'block' : 'none';\n",
              "\n",
              "        async function convertToInteractive(key) {\n",
              "          const element = document.querySelector('#df-67b48cb7-1022-498d-9e8c-b6d1269b4f17');\n",
              "          const dataTable =\n",
              "            await google.colab.kernel.invokeFunction('convertToInteractive',\n",
              "                                                     [key], {});\n",
              "          if (!dataTable) return;\n",
              "\n",
              "          const docLinkHtml = 'Like what you see? Visit the ' +\n",
              "            '<a target=\"_blank\" href=https://colab.research.google.com/notebooks/data_table.ipynb>data table notebook</a>'\n",
              "            + ' to learn more about interactive tables.';\n",
              "          element.innerHTML = '';\n",
              "          dataTable['output_type'] = 'display_data';\n",
              "          await google.colab.output.renderOutput(dataTable, element);\n",
              "          const docLink = document.createElement('div');\n",
              "          docLink.innerHTML = docLinkHtml;\n",
              "          element.appendChild(docLink);\n",
              "        }\n",
              "      </script>\n",
              "    </div>\n",
              "  </div>\n",
              "  "
            ]
          },
          "metadata": {},
          "execution_count": 49
        }
      ],
      "source": [
        "inp0.describe()"
      ]
    },
    {
      "cell_type": "markdown",
      "id": "81b22512",
      "metadata": {
        "id": "81b22512"
      },
      "source": [
        "We have use **describe()** method to visualise the statistical parameter like count, mean, standard deviation, minimun, maximum, inter quantile value of the columns.\n",
        "By looking at its statistical parameter we cannot determine anything as it all looks fine so we have to check it through some other way."
      ]
    },
    {
      "cell_type": "code",
      "execution_count": 50,
      "id": "afc2da51",
      "metadata": {
        "id": "afc2da51",
        "outputId": "86724bf3-2d3b-4b63-e25c-8ec764e190bd",
        "colab": {
          "base_uri": "https://localhost:8080/"
        }
      },
      "outputs": [
        {
          "output_type": "execute_result",
          "data": {
            "text/plain": [
              "Low Fat    5517\n",
              "Regular    3006\n",
              "Name: Item_Fat_Content, dtype: int64"
            ]
          },
          "metadata": {},
          "execution_count": 50
        }
      ],
      "source": [
        "# checking the value count of Item_Fat_Content.\n",
        "inp0.Item_Fat_Content.value_counts()"
      ]
    },
    {
      "cell_type": "markdown",
      "id": "ac03f123",
      "metadata": {
        "id": "ac03f123"
      },
      "source": [
        " In this we can see that Low Fat, LF & low fat are the same thing. Similarly, Regular & reg is same so we need to merge them."
      ]
    },
    {
      "cell_type": "code",
      "execution_count": 51,
      "id": "f5da5767",
      "metadata": {
        "id": "f5da5767",
        "outputId": "5c5385c7-580e-4bd7-92c1-edc374ef2bfd",
        "colab": {
          "base_uri": "https://localhost:8080/"
        }
      },
      "outputs": [
        {
          "output_type": "execute_result",
          "data": {
            "text/plain": [
              "Low Fat    5517\n",
              "Regular    3006\n",
              "Name: Item_Fat_Content, dtype: int64"
            ]
          },
          "metadata": {},
          "execution_count": 51
        }
      ],
      "source": [
        "# Merging Low Fat, LF & low fat into Low Fat and Regular & reg into Regular\n",
        "inp0.replace({'Item_Fat_Content':{'low fat':'Low Fat','LF':'Low Fat','reg':'Regular'}},inplace=True)\n",
        "inp0.Item_Fat_Content.value_counts()"
      ]
    },
    {
      "cell_type": "markdown",
      "id": "eebc1a28",
      "metadata": {
        "id": "eebc1a28"
      },
      "source": [
        "As you can see we have combine them using **replace()** method & now we have just two things in that coloumn that is **Low Fat** which is 5517 and **Regular which** is 3006.\n"
      ]
    },
    {
      "cell_type": "markdown",
      "id": "68f8d1ae",
      "metadata": {
        "id": "68f8d1ae"
      },
      "source": [
        "We have done data sourcing now we have to clean the data for that first we have to find the irregularity in the coloumn. We will start from finding and dealing with missing values.\n"
      ]
    },
    {
      "cell_type": "markdown",
      "id": "916408fe",
      "metadata": {
        "id": "916408fe"
      },
      "source": [
        "### MISSING VALUES"
      ]
    },
    {
      "cell_type": "code",
      "execution_count": 10,
      "id": "3fd0ff85",
      "metadata": {
        "id": "3fd0ff85",
        "outputId": "c933ac5e-2822-4102-f4db-5dfb2a4e2ff6",
        "colab": {
          "base_uri": "https://localhost:8080/"
        }
      },
      "outputs": [
        {
          "output_type": "execute_result",
          "data": {
            "text/plain": [
              "Item_Identifier                 0\n",
              "Item_Weight                  1463\n",
              "Item_Fat_Content                0\n",
              "Item_Visibility                 0\n",
              "Item_Type                       0\n",
              "Item_MRP                        0\n",
              "Outlet_Identifier               0\n",
              "Outlet_Establishment_Year       0\n",
              "Outlet_Size                  2410\n",
              "Outlet_Location_Type            0\n",
              "Outlet_Type                     0\n",
              "Item_Outlet_Sales               0\n",
              "dtype: int64"
            ]
          },
          "metadata": {},
          "execution_count": 10
        }
      ],
      "source": [
        "inp0.isnull().sum()"
      ]
    },
    {
      "cell_type": "markdown",
      "id": "cc3264a7",
      "metadata": {
        "id": "cc3264a7"
      },
      "source": [
        "We are checking for missing values in the columns using **isnull().sum()** to get the number of missing values in a columns. By using this we get that `Item_Weight` has 1463 missing values and `Outlet_Size` has 2410 missing values."
      ]
    },
    {
      "cell_type": "markdown",
      "id": "3b333c3e",
      "metadata": {
        "id": "3b333c3e"
      },
      "source": [
        "## Deal with missing values"
      ]
    },
    {
      "cell_type": "markdown",
      "id": "8ed8569e",
      "metadata": {
        "id": "8ed8569e"
      },
      "source": [
        "We can deal with missing values by following ways:\n",
        "    A) If these values are in small percentage then we can drop that row it will not affect our analysis.\n",
        "    B) If these are in very large number then we can drop the full coloumn.\n",
        "    C) We can also impute this missing values. Usually, in numerical coloumn we replace it with **mean** and in categorical coloumn        we replace it with **mode**."
      ]
    },
    {
      "cell_type": "markdown",
      "id": "4e60f595",
      "metadata": {
        "id": "4e60f595"
      },
      "source": [
        " As missing values in the `Item_Weight` coloumn are **Missing Completely At Random (MCAR)** so we cannot directly impute that with the mean value. It may affect our analysis, so we have to visualize it using Boxplot by using seaborn library."
      ]
    },
    {
      "cell_type": "code",
      "execution_count": 11,
      "id": "e7cd5780",
      "metadata": {
        "id": "e7cd5780",
        "outputId": "8596d419-da45-480f-e48a-3de14b9f4e73",
        "colab": {
          "base_uri": "https://localhost:8080/",
          "height": 298
        }
      },
      "outputs": [
        {
          "output_type": "execute_result",
          "data": {
            "text/plain": [
              "Text(0.5, 1.0, 'Item_Weight Boxplot')"
            ]
          },
          "metadata": {},
          "execution_count": 11
        },
        {
          "output_type": "display_data",
          "data": {
            "text/plain": [
              "<Figure size 432x288 with 1 Axes>"
            ],
            "image/png": "[encoded data removed]"
          },
          "metadata": {
            "needs_background": "light"
          }
        }
      ],
      "source": [
        "sns.boxplot(data=inp0['Item_Weight'])\n",
        "plt.title(\"Item_Weight Boxplot\")"
      ]
    },
    {
      "cell_type": "markdown",
      "id": "b8b86bf9",
      "metadata": {
        "id": "b8b86bf9"
      },
      "source": [
        "In this you can see that there are no **outliers** which means that we can fill the missing data with the **mean** value for maximum efficiency."
      ]
    },
    {
      "cell_type": "markdown",
      "id": "a1656b54",
      "metadata": {
        "id": "a1656b54"
      },
      "source": [
        "**Outlier** refers to the one who are far from the group."
      ]
    },
    {
      "cell_type": "code",
      "execution_count": 12,
      "id": "705dfc97",
      "metadata": {
        "id": "705dfc97"
      },
      "outputs": [],
      "source": [
        "# impute missing value with mean\n",
        "inp0[\"Item_Weight\"]=inp0[\"Item_Weight\"].fillna(inp0[\"Item_Weight\"].dropna().mean())"
      ]
    },
    {
      "cell_type": "code",
      "execution_count": 13,
      "id": "7157a60a",
      "metadata": {
        "id": "7157a60a",
        "outputId": "c39f106e-05d1-4829-ab7c-6e47c227999c",
        "colab": {
          "base_uri": "https://localhost:8080/"
        }
      },
      "outputs": [
        {
          "output_type": "execute_result",
          "data": {
            "text/plain": [
              "0"
            ]
          },
          "metadata": {},
          "execution_count": 13
        }
      ],
      "source": [
        "# Now check the missing value\n",
        "inp0.Item_Weight.isnull().sum()"
      ]
    },
    {
      "cell_type": "markdown",
      "id": "fedf8b9e",
      "metadata": {
        "id": "fedf8b9e"
      },
      "source": [
        "Now imputing `Outlet_Size` coloumn which is categorical so, we will impute with the **mode value**"
      ]
    },
    {
      "cell_type": "code",
      "execution_count": 14,
      "id": "c1b7d48f",
      "metadata": {
        "id": "c1b7d48f",
        "outputId": "578c4ffe-13b4-4322-ca57-543e314d1fa0",
        "colab": {
          "base_uri": "https://localhost:8080/"
        }
      },
      "outputs": [
        {
          "output_type": "execute_result",
          "data": {
            "text/plain": [
              "Medium    2793\n",
              "Small     2388\n",
              "High       932\n",
              "Name: Outlet_Size, dtype: int64"
            ]
          },
          "metadata": {},
          "execution_count": 14
        }
      ],
      "source": [
        "# value_counts of Outlet_Size to find the mode\n",
        "inp0.Outlet_Size.value_counts()"
      ]
    },
    {
      "cell_type": "markdown",
      "id": "f54fb4c3",
      "metadata": {
        "id": "f54fb4c3"
      },
      "source": [
        "As you can see `Medium` contains the maximium number of value so we will impute missing with `Medium` the **mode value**"
      ]
    },
    {
      "cell_type": "code",
      "execution_count": 15,
      "id": "fe1b930b",
      "metadata": {
        "id": "fe1b930b"
      },
      "outputs": [],
      "source": [
        "# impute missing value of Outlet_Size with the mode value which is Medium\n",
        "inp0[\"Outlet_Size\"]=inp0[\"Outlet_Size\"].fillna(inp0[\"Outlet_Size\"].mode()[0])"
      ]
    },
    {
      "cell_type": "code",
      "execution_count": 16,
      "id": "c40ff1b8",
      "metadata": {
        "id": "c40ff1b8",
        "outputId": "c7f947d4-47b9-4a66-f433-a5df7665161b",
        "colab": {
          "base_uri": "https://localhost:8080/"
        }
      },
      "outputs": [
        {
          "output_type": "execute_result",
          "data": {
            "text/plain": [
              "0"
            ]
          },
          "metadata": {},
          "execution_count": 16
        }
      ],
      "source": [
        "# checking missing value\n",
        "inp0.Outlet_Size.isnull().sum()"
      ]
    },
    {
      "cell_type": "code",
      "execution_count": 17,
      "id": "579babe0",
      "metadata": {
        "id": "579babe0",
        "outputId": "87b426fb-2f85-4cac-9c63-6a360e43b8aa",
        "colab": {
          "base_uri": "https://localhost:8080/"
        }
      },
      "outputs": [
        {
          "output_type": "stream",
          "name": "stdout",
          "text": [
            "<class 'pandas.core.frame.DataFrame'>\n",
            "RangeIndex: 8523 entries, 0 to 8522\n",
            "Data columns (total 12 columns):\n",
            " #   Column                     Non-Null Count  Dtype  \n",
            "---  ------                     --------------  -----  \n",
            " 0   Item_Identifier            8523 non-null   object \n",
            " 1   Item_Weight                8523 non-null   float64\n",
            " 2   Item_Fat_Content           8523 non-null   object \n",
            " 3   Item_Visibility            8523 non-null   float64\n",
            " 4   Item_Type                  8523 non-null   object \n",
            " 5   Item_MRP                   8523 non-null   float64\n",
            " 6   Outlet_Identifier          8523 non-null   object \n",
            " 7   Outlet_Establishment_Year  8523 non-null   int64  \n",
            " 8   Outlet_Size                8523 non-null   object \n",
            " 9   Outlet_Location_Type       8523 non-null   object \n",
            " 10  Outlet_Type                8523 non-null   object \n",
            " 11  Item_Outlet_Sales          8523 non-null   float64\n",
            "dtypes: float64(4), int64(1), object(7)\n",
            "memory usage: 799.2+ KB\n"
          ]
        }
      ],
      "source": [
        "inp0.info()"
      ]
    },
    {
      "cell_type": "markdown",
      "id": "c62b0103",
      "metadata": {
        "id": "c62b0103"
      },
      "source": [
        "**Now by using the info() method, we can see that we have succesfully filled all the missing data for both the coloumn.**"
      ]
    },
    {
      "cell_type": "markdown",
      "id": "c5fa76a4",
      "metadata": {
        "id": "c5fa76a4"
      },
      "source": [
        "After dealing with the **missing value** we have done with the **data cleaning** part. Now moving to **Data Visualization** for finding the insight from the dataset."
      ]
    },
    {
      "cell_type": "markdown",
      "id": "c588f85e",
      "metadata": {
        "id": "c588f85e"
      },
      "source": [
        "### DATA VISUALIZATION"
      ]
    },
    {
      "cell_type": "markdown",
      "id": "5c2464f5",
      "metadata": {
        "id": "5c2464f5"
      },
      "source": [
        "### Univariate Analysis"
      ]
    },
    {
      "cell_type": "markdown",
      "id": "bdb51c1d",
      "metadata": {
        "id": "bdb51c1d"
      },
      "source": [
        " We will separately deal with categorical and numerical coloumn\n",
        " \n"
      ]
    },
    {
      "cell_type": "markdown",
      "id": "fed9341a",
      "metadata": {
        "id": "fed9341a"
      },
      "source": [
        "categorical coloumn:\n",
        "`Item_Identifier`,`Item_Fat_Content`,`Item_Type`,`Outlet_Identifier`,`Outlet_Size`,`Outlet_Location_Type`,`Outlet_Type`\n"
      ]
    },
    {
      "cell_type": "code",
      "execution_count": 18,
      "id": "b68802b4",
      "metadata": {
        "id": "b68802b4",
        "outputId": "d7a80a60-f3c3-42a9-8c31-2f92f780b1f3",
        "colab": {
          "base_uri": "https://localhost:8080/",
          "height": 282
        }
      },
      "outputs": [
        {
          "output_type": "display_data",
          "data": {
            "text/plain": [
              "<Figure size 432x288 with 1 Axes>"
            ],
            "image/png": "[encoded data removed]"
          },
          "metadata": {
            "needs_background": "light"
          }
        }
      ],
      "source": [
        "# Graph for Item_Identifier using countplot\n",
        "plt.figure(figsize=(6,4))\n",
        "sns.countplot(x='Item_Identifier', data=inp0)\n",
        "plt.xlabel('Item_Identifier', fontsize=12)\n",
        "plt.show()"
      ]
    },
    {
      "cell_type": "markdown",
      "id": "a8f1805b",
      "metadata": {
        "id": "a8f1805b"
      },
      "source": [
        "As we can see that we are not able to find anything from `Item_Identifier` so we will simply ignore this for now."
      ]
    },
    {
      "cell_type": "code",
      "execution_count": 19,
      "id": "b79841c3",
      "metadata": {
        "id": "b79841c3",
        "outputId": "06c7a588-3ca4-4c81-f859-9d40047f485b",
        "colab": {
          "base_uri": "https://localhost:8080/",
          "height": 287
        }
      },
      "outputs": [
        {
          "output_type": "display_data",
          "data": {
            "text/plain": [
              "<Figure size 432x288 with 1 Axes>"
            ],
            "image/png": "[encoded data removed]"
          },
          "metadata": {
            "needs_background": "light"
          }
        }
      ],
      "source": [
        "# Graph for Item_Fat_Content using countplot\n",
        "plt.figure(figsize=(6,4))\n",
        "sns.countplot(x='Item_Fat_Content', data=inp0)\n",
        "plt.xlabel('Item_Fat_Content',fontsize=18)\n",
        "plt.show()"
      ]
    },
    {
      "cell_type": "markdown",
      "id": "3a8a1344",
      "metadata": {
        "id": "3a8a1344"
      },
      "source": [
        "In this we can conclude that more number of items sold is of **Low Fat** from `Item_Fat_Content`. We have use **countplot** to find which is sold more. By using **plt.figure()** we can fix the size of the graph."
      ]
    },
    {
      "cell_type": "code",
      "execution_count": 20,
      "id": "17638849",
      "metadata": {
        "id": "17638849",
        "outputId": "73fd03e6-2435-4ca5-d250-e84a091da89d",
        "colab": {
          "base_uri": "https://localhost:8080/",
          "height": 614
        }
      },
      "outputs": [
        {
          "output_type": "display_data",
          "data": {
            "text/plain": [
              "<Figure size 1800x720 with 1 Axes>"
            ],
            "image/png": "[encoded data removed]"
          },
          "metadata": {
            "needs_background": "light"
          }
        }
      ],
      "source": [
        "# Graph for Item_Type using countplot\n",
        "plt.figure(figsize=(25,10))\n",
        "sns.countplot(x='Item_Type', data=inp0)\n",
        "plt.xlabel('Item_Type', fontsize=18)\n",
        "plt.show()"
      ]
    },
    {
      "cell_type": "markdown",
      "id": "145f1525",
      "metadata": {
        "id": "145f1525"
      },
      "source": [
        "In `Item_Type` by using **countplot** we find that **Fruits and Vegetables** & **Snack Foods** are the most popular among them."
      ]
    },
    {
      "cell_type": "code",
      "execution_count": 21,
      "id": "b9b644d1",
      "metadata": {
        "id": "b9b644d1",
        "outputId": "aa26f2db-3b64-4eb6-d181-fb3a870097b2",
        "colab": {
          "base_uri": "https://localhost:8080/",
          "height": 507
        }
      },
      "outputs": [
        {
          "output_type": "display_data",
          "data": {
            "text/plain": [
              "<Figure size 1584x576 with 1 Axes>"
            ],
            "image/png": "[encoded data removed]"
          },
          "metadata": {
            "needs_background": "light"
          }
        }
      ],
      "source": [
        "# Graph for Outlet_Identifier using countplot\n",
        "plt.figure(figsize=(22,8))\n",
        "sns.countplot(x='Outlet_Identifier', data=inp0)\n",
        "plt.xlabel('Outlet_Identifier', fontsize=20)\n",
        "plt.show()"
      ]
    },
    {
      "cell_type": "markdown",
      "id": "ec7d265a",
      "metadata": {
        "id": "ec7d265a"
      },
      "source": [
        "In `Outlet_Identifier` using **countplot** we came to know that all the outlet having same number of sold items except `OUT010` & `OUT019`. "
      ]
    },
    {
      "cell_type": "code",
      "execution_count": 22,
      "id": "73439a38",
      "metadata": {
        "id": "73439a38",
        "outputId": "79953457-d081-42ad-86b7-84f80043e10d",
        "colab": {
          "base_uri": "https://localhost:8080/",
          "height": 398
        }
      },
      "outputs": [
        {
          "output_type": "display_data",
          "data": {
            "text/plain": [
              "<Figure size 720x432 with 1 Axes>"
            ],
            "image/png": "[encoded data removed]"
          },
          "metadata": {
            "needs_background": "light"
          }
        }
      ],
      "source": [
        "# Graph for Outlet_Size using countplot\n",
        "plt.figure(figsize=(10,6))\n",
        "sns.countplot(x='Outlet_Size', data=inp0)\n",
        "plt.xlabel('Outlet_Size', fontsize= 20)\n",
        "plt.show()"
      ]
    },
    {
      "cell_type": "markdown",
      "id": "9375c669",
      "metadata": {
        "id": "9375c669"
      },
      "source": [
        "In `Outlet_Size` by using **countplot** we find that the most number of outlets is of `Medium` size."
      ]
    },
    {
      "cell_type": "code",
      "execution_count": 23,
      "id": "7cab848f",
      "metadata": {
        "id": "7cab848f",
        "outputId": "12fa8d03-fdd6-4c6a-fba6-0b1b4710a7d1",
        "colab": {
          "base_uri": "https://localhost:8080/",
          "height": 400
        }
      },
      "outputs": [
        {
          "output_type": "display_data",
          "data": {
            "text/plain": [
              "<Figure size 720x432 with 1 Axes>"
            ],
            "image/png": "[encoded data removed]"
          },
          "metadata": {
            "needs_background": "light"
          }
        }
      ],
      "source": [
        "# Graph for Outlet_Location_Type using countplot\n",
        "plt.figure(figsize=(10,6))\n",
        "sns.countplot(x='Outlet_Location_Type', data=inp0)\n",
        "plt.xlabel('Outlet_Location_Type', fontsize=20)\n",
        "plt.show()"
      ]
    },
    {
      "cell_type": "markdown",
      "id": "df2e751b",
      "metadata": {
        "id": "df2e751b"
      },
      "source": [
        "In `Outlet_Location_Type` by using **countplot** we find that the most common outlet location type is of `Tier 3`."
      ]
    },
    {
      "cell_type": "code",
      "execution_count": 24,
      "id": "d4a2e924",
      "metadata": {
        "id": "d4a2e924",
        "outputId": "9be6d8ea-285d-445a-df4e-37b02d64da96",
        "colab": {
          "base_uri": "https://localhost:8080/",
          "height": 398
        }
      },
      "outputs": [
        {
          "output_type": "display_data",
          "data": {
            "text/plain": [
              "<Figure size 720x432 with 1 Axes>"
            ],
            "image/png": "[encoded data removed]"
          },
          "metadata": {
            "needs_background": "light"
          }
        }
      ],
      "source": [
        "# Graph for Outlet_Type using countplot\n",
        "plt.figure(figsize=(10,6))\n",
        "sns.countplot(x='Outlet_Type', data=inp0)\n",
        "plt.xlabel('Outlet_Type', fontsize=20)\n",
        "plt.show()"
      ]
    },
    {
      "cell_type": "markdown",
      "id": "f76461b6",
      "metadata": {
        "id": "f76461b6"
      },
      "source": [
        "In `Outlet_Type` by using **countplot** we know that `Supermarket Type1` is a mode of this by a wide margin."
      ]
    },
    {
      "cell_type": "markdown",
      "id": "23cd8977",
      "metadata": {
        "id": "23cd8977"
      },
      "source": [
        "#### Conclusion for Categorical Column"
      ]
    },
    {
      "cell_type": "markdown",
      "id": "d04d0c71",
      "metadata": {
        "id": "d04d0c71"
      },
      "source": [
        "* `Item_Fat_Content` - Most items sold are low fat.\n",
        "* `Item_Type` - Item types that are distictly popular are `fruits and vegetables` and `snack foods`. \n",
        "* `Outlet_Identifier` - Sold items are ditributed evenly among outlets excluding `OUT010` and `OUT019` that are significanly lower. \n",
        "* `Outlet_Size` - Bigmart outlets are mostly medium sized in our data. \n",
        "* `Outlet_Location_Type` - The most common type is `Tier3`.\n",
        "* `Outlet_Type` - By a wide margin the mode outlet type is `Supermarket Type1`.\n",
        "\n",
        "Now for the numerical columns:\n",
        "`Outlet_Establishment_Year` ,`Item_Outlet_Sales`, `Item_Weight`, `Item_Visibility`, `Item_MRP`."
      ]
    },
    {
      "cell_type": "code",
      "execution_count": 25,
      "id": "4194f9e6",
      "metadata": {
        "id": "4194f9e6",
        "outputId": "592d6f5e-d4a8-4d6d-d862-5257243bc211",
        "colab": {
          "base_uri": "https://localhost:8080/",
          "height": 507
        }
      },
      "outputs": [
        {
          "output_type": "display_data",
          "data": {
            "text/plain": [
              "<Figure size 1440x576 with 1 Axes>"
            ],
            "image/png": "[encoded data removed]"
          },
          "metadata": {
            "needs_background": "light"
          }
        }
      ],
      "source": [
        "# Graph for Outlet_Establishment_Year using countplot\n",
        "plt.figure(figsize=(20,8))\n",
        "sns.countplot(x='Outlet_Establishment_Year', data=inp0)\n",
        "plt.xlabel('Outlet_Establishment_Year', fontsize=20)\n",
        "plt.show()"
      ]
    },
    {
      "cell_type": "markdown",
      "id": "ec10b2ff",
      "metadata": {
        "id": "ec10b2ff"
      },
      "source": [
        "This is very interesting as the debut year ,`1985` was having the highest sales but from then on, sales volume was pretty much constant.  \n",
        "For the rest of the numerical column we are not able to find anything from that by using **countplot** ,so now we have to perform **Bivariate Analysis** using different plots.  "
      ]
    },
    {
      "cell_type": "markdown",
      "id": "c3a87f76",
      "metadata": {
        "id": "c3a87f76"
      },
      "source": [
        "### Bivariate Analysis"
      ]
    },
    {
      "cell_type": "markdown",
      "id": "671ec4c6",
      "metadata": {
        "id": "671ec4c6"
      },
      "source": [
        "We can perform **Bivariate Analysis** in three ways:\n",
        "- Categorical-Categorical\n",
        "- Numerical-Numerical\n",
        "- Categorical-Numerical"
      ]
    },
    {
      "cell_type": "markdown",
      "source": [
        "As our main target is `Item_Outlet_Sales` . So, we will foucs on this only for now. We will perfrom Numerical-Numerical & Categorical-Numerical analysis on this."
      ],
      "metadata": {
        "id": "-C_7I7b-S6Ty"
      },
      "id": "-C_7I7b-S6Ty"
    },
    {
      "cell_type": "markdown",
      "source": [
        "##### Numerical-Numerical Analysis"
      ],
      "metadata": {
        "id": "M7fnrPwrUl9g"
      },
      "id": "M7fnrPwrUl9g"
    },
    {
      "cell_type": "code",
      "source": [
        "# Scatter Plot of Item_Outlet_Sales & Item_Weight \n",
        "plt.figure(figsize=(10,4))\n",
        "plt.scatter(x='Item_Weight',y='Item_Outlet_Sales', data=inp0)\n",
        "plt.xlabel('Item_Weight',fontsize=20)\n",
        "plt.ylabel('Item_Outlet_Sales',fontsize=20)\n",
        "plt.show() "
      ],
      "metadata": {
        "id": "rX3wT8fKQ8bK",
        "outputId": "b2e48c55-3a81-4fb7-f7aa-c078e0d09d81",
        "colab": {
          "base_uri": "https://localhost:8080/",
          "height": 289
        }
      },
      "id": "rX3wT8fKQ8bK",
      "execution_count": 26,
      "outputs": [
        {
          "output_type": "display_data",
          "data": {
            "text/plain": [
              "<Figure size 720x288 with 1 Axes>"
            ],
            "image/png": "[encoded data removed]"
          },
          "metadata": {
            "needs_background": "light"
          }
        }
      ]
    },
    {
      "cell_type": "markdown",
      "source": [
        "As you can see that there is no specific pattern in this so we cannot derive any insight from `Item_Weight`."
      ],
      "metadata": {
        "id": "n_vYp3WAYSbg"
      },
      "id": "n_vYp3WAYSbg"
    },
    {
      "cell_type": "code",
      "execution_count": 27,
      "id": "da56cb2c",
      "metadata": {
        "id": "da56cb2c",
        "outputId": "56aba51a-c338-4344-8817-a54b53941b40",
        "colab": {
          "base_uri": "https://localhost:8080/",
          "height": 289
        }
      },
      "outputs": [
        {
          "output_type": "display_data",
          "data": {
            "text/plain": [
              "<Figure size 720x288 with 1 Axes>"
            ],
            "image/png": "[encoded data removed]"
          },
          "metadata": {
            "needs_background": "light"
          }
        }
      ],
      "source": [
        "# Scatter Plot of Item_Outlet_Sales & Item_Visibility \n",
        "plt.figure(figsize=(10,4))\n",
        "plt.scatter(x='Item_Visibility',y='Item_Outlet_Sales', data=inp0)\n",
        "plt.xlabel('Item_Visibility',fontsize=20)\n",
        "plt.ylabel('Item_Outlet_Sales',fontsize=20)\n",
        "plt.show()"
      ]
    },
    {
      "cell_type": "markdown",
      "source": [
        "In this you can see that it appears to be spreaded as well but some concentration around the (0,0) indicate small visibility items are not selling well in some cases."
      ],
      "metadata": {
        "id": "hwfrq50cYktK"
      },
      "id": "hwfrq50cYktK"
    },
    {
      "cell_type": "code",
      "source": [
        "# Scatter Plot of Item_Outlet_Sales & Item_MRP\n",
        "plt.figure(figsize=(10,4))\n",
        "plt.scatter(x='Item_MRP',y='Item_Outlet_Sales', data=inp0)\n",
        "plt.xlabel('Item_MRP',fontsize=20)\n",
        "plt.ylabel('Item_Outlet_Sales',fontsize=20)\n",
        "plt.show()"
      ],
      "metadata": {
        "id": "TwfBnCqRX4Rw",
        "outputId": "cb937be4-6bd0-4f5f-bdeb-be3e5249d30e",
        "colab": {
          "base_uri": "https://localhost:8080/",
          "height": 288
        }
      },
      "id": "TwfBnCqRX4Rw",
      "execution_count": 28,
      "outputs": [
        {
          "output_type": "display_data",
          "data": {
            "text/plain": [
              "<Figure size 720x288 with 1 Axes>"
            ],
            "image/png": "[encoded data removed]"
          },
          "metadata": {
            "needs_background": "light"
          }
        }
      ]
    },
    {
      "cell_type": "markdown",
      "source": [
        "This is interesting as by seeing we came to know that items with higher MRP tend to sell better in most of the cases."
      ],
      "metadata": {
        "id": "0ZCBJx8OZv6n"
      },
      "id": "0ZCBJx8OZv6n"
    },
    {
      "cell_type": "markdown",
      "source": [
        "##### Categorical-Numerical Analysis"
      ],
      "metadata": {
        "id": "qELy6G8xaQwk"
      },
      "id": "qELy6G8xaQwk"
    },
    {
      "cell_type": "markdown",
      "source": [
        "Now we will se how `Item_Outlet_Sales` varies with different categorical column of this dataset."
      ],
      "metadata": {
        "id": "n30KTarPabX3"
      },
      "id": "n30KTarPabX3"
    },
    {
      "cell_type": "code",
      "source": [
        "# Bar Plot for Item_Type with Item_Outlet_Sales\n",
        "plt.figure(figsize=(22,8))\n",
        "sns.barplot('Item_Type' ,'Item_Outlet_Sales', data=inp0)\n",
        "plt.xlabel('Item_Type', fontsize=18)\n",
        "plt.ylabel('Item_Outlet_Sales', fontsize=18)\n",
        "plt.show()"
      ],
      "metadata": {
        "id": "8yhuSfDFZkbw",
        "outputId": "830d9c8d-21b0-40de-fc3d-7274858765cb",
        "colab": {
          "base_uri": "https://localhost:8080/",
          "height": 505
        }
      },
      "id": "8yhuSfDFZkbw",
      "execution_count": 29,
      "outputs": [
        {
          "output_type": "display_data",
          "data": {
            "text/plain": [
              "<Figure size 1584x576 with 1 Axes>"
            ],
            "image/png": "[encoded data removed]"
          },
          "metadata": {
            "needs_background": "light"
          }
        }
      ]
    },
    {
      "cell_type": "markdown",
      "source": [
        "In this you can see that the difference between `Item_Type` by sales is very small so we cannot get anything from it."
      ],
      "metadata": {
        "id": "s9pj9paGbise"
      },
      "id": "s9pj9paGbise"
    },
    {
      "cell_type": "code",
      "source": [
        "# Bar Plot for Outlet_Identifier with Item_Outlet_Sales\n",
        "plt.figure(figsize=(22,8))\n",
        "sns.barplot('Outlet_Identifier' ,'Item_Outlet_Sales', data=inp0)\n",
        "plt.xlabel('Outlet_Identifier', fontsize=18)\n",
        "plt.ylabel('Item_Outlet_Sales', fontsize=18)\n",
        "plt.show()"
      ],
      "metadata": {
        "id": "3Oc6h02Sbbuq",
        "outputId": "b67bbdfd-8188-41cc-e57a-819a7685553c",
        "colab": {
          "base_uri": "https://localhost:8080/",
          "height": 507
        }
      },
      "id": "3Oc6h02Sbbuq",
      "execution_count": 30,
      "outputs": [
        {
          "output_type": "display_data",
          "data": {
            "text/plain": [
              "<Figure size 1584x576 with 1 Axes>"
            ],
            "image/png": "[encoded data removed]"
          },
          "metadata": {
            "needs_background": "light"
          }
        }
      ]
    },
    {
      "cell_type": "markdown",
      "source": [
        "As you can see that `OUT027` is the one which is the most profitable & `OUT010` ,`OUT019` are having the least sales."
      ],
      "metadata": {
        "id": "cQ-MXSvscnHv"
      },
      "id": "cQ-MXSvscnHv"
    },
    {
      "cell_type": "code",
      "source": [
        "# Bar Plot for Outlet_Type with Item_Outlet_Sales\n",
        "plt.figure(figsize=(12,4))\n",
        "sns.barplot('Outlet_Type' ,'Item_Outlet_Sales', data=inp0)\n",
        "plt.xlabel('Outlet_Type', fontsize=18)\n",
        "plt.ylabel('Item_Outlet_Sales', fontsize=18)\n",
        "plt.show()"
      ],
      "metadata": {
        "id": "G6xZZB-4cdhD",
        "outputId": "1e257d2a-cbbd-4ebd-d2e1-a3a58774325b",
        "colab": {
          "base_uri": "https://localhost:8080/",
          "height": 291
        }
      },
      "id": "G6xZZB-4cdhD",
      "execution_count": 31,
      "outputs": [
        {
          "output_type": "display_data",
          "data": {
            "text/plain": [
              "<Figure size 864x288 with 1 Axes>"
            ],
            "image/png": "[encoded data removed]"
          },
          "metadata": {
            "needs_background": "light"
          }
        }
      ]
    },
    {
      "cell_type": "markdown",
      "source": [
        "We earlier saw that `Supermarket Type1` is the one which is a mode of this but here we find that `Supermarket Type3` is the most profitable not the type1."
      ],
      "metadata": {
        "id": "vtmnaGEcdiNL"
      },
      "id": "vtmnaGEcdiNL"
    },
    {
      "cell_type": "code",
      "source": [
        "# Bar Plot for Outlet_Size with Item_Outlet_Sales\n",
        "plt.figure(figsize=(16,4))\n",
        "sns.barplot('Outlet_Size' ,'Item_Outlet_Sales', data=inp0)\n",
        "plt.xlabel('Outlet_Size', fontsize=18)\n",
        "plt.ylabel('Item_Outlet_Sales', fontsize=18)\n",
        "plt.show()"
      ],
      "metadata": {
        "id": "eTAS9GB0dR7z",
        "outputId": "eef1ae8a-9e2b-47b0-977b-2587280cfade",
        "colab": {
          "base_uri": "https://localhost:8080/",
          "height": 290
        }
      },
      "id": "eTAS9GB0dR7z",
      "execution_count": 32,
      "outputs": [
        {
          "output_type": "display_data",
          "data": {
            "text/plain": [
              "<Figure size 1152x288 with 1 Axes>"
            ],
            "image/png": "[encoded data removed]"
          },
          "metadata": {
            "needs_background": "light"
          }
        }
      ]
    },
    {
      "cell_type": "markdown",
      "source": [
        "In this we find that `Medium` & `High` Outlet sizes are pretty much same in their respective sales."
      ],
      "metadata": {
        "id": "7qzoU1iHewD8"
      },
      "id": "7qzoU1iHewD8"
    },
    {
      "cell_type": "code",
      "source": [
        "# Bar Plot for Outlet_Location_Type with Item_Outlet_Sales\n",
        "plt.figure(figsize=(20,6))\n",
        "sns.barplot('Outlet_Location_Type' ,'Item_Outlet_Sales', data=inp0)\n",
        "plt.xlabel('Outlet_Location_Type', fontsize=18)\n",
        "plt.ylabel('Item_Outlet_Sales', fontsize=18)\n",
        "plt.show()"
      ],
      "metadata": {
        "id": "0xkaszFhejux",
        "outputId": "2093dd81-157a-4c5b-f704-45a1703ce473",
        "colab": {
          "base_uri": "https://localhost:8080/",
          "height": 396
        }
      },
      "id": "0xkaszFhejux",
      "execution_count": 33,
      "outputs": [
        {
          "output_type": "display_data",
          "data": {
            "text/plain": [
              "<Figure size 1440x432 with 1 Axes>"
            ],
            "image/png": "[encoded data removed]"
          },
          "metadata": {
            "needs_background": "light"
          }
        }
      ]
    },
    {
      "cell_type": "markdown",
      "source": [
        "In this `Tier 3` and `Tier 2` is almost similar in sales just by a small margin `Tier 2` is higher than `Tier 3` but that does not make such a big difference."
      ],
      "metadata": {
        "id": "8cHeI7BLfeIx"
      },
      "id": "8cHeI7BLfeIx"
    },
    {
      "cell_type": "markdown",
      "source": [
        "#### Conclusion from Bivariate Analysis:\n",
        "\n",
        "* `Item_Weight`- There is no specific pattern in this.\n",
        "* `Item_Visibility`-  Appears to be spreaded as well but some concentration around the (0,0) indicate small visibility items are not selling well is some cases.\n",
        "* `Item_MRP`- Items with higher MRP tend to sell better in most cases.\n",
        "* `Item_Type`-The difference in item types by sales is very small.\n",
        "* `Outlet_Identifier`-Outlet 27 is the most profitable and there is a big diffrence between each specific outlet sales.\n",
        "* `Outlet_Type`-Suprisingly supermarket type 3 is the most profitable and not type 1.\n",
        "* `Outlet_Size`-Medium and high outlet sizes are pretty much even in sales.\n",
        "* `Outlet_Location_Type`-Tier 2 and 3 are almost even being the highest in sales but tier 2 is slightly larger. "
      ],
      "metadata": {
        "id": "D-WBhzXQgEY9"
      },
      "id": "D-WBhzXQgEY9"
    },
    {
      "cell_type": "markdown",
      "source": [
        "Now we will see the `Correlation` between the variables by using a `Heatmap`."
      ],
      "metadata": {
        "id": "pqJB8uGz3S-m"
      },
      "id": "pqJB8uGz3S-m"
    },
    {
      "cell_type": "code",
      "source": [
        "corr = inp0.corr()\n",
        "plt.figure(figsize=(8,8))\n",
        "sns.heatmap(corr,cbar=True,square=True,fmt='.1f',annot=True,cmap='RdYlGn')"
      ],
      "metadata": {
        "id": "RNAAZpd3lGE6",
        "outputId": "53ef1a43-d5ab-4ef1-eb9b-88adaedb547c",
        "colab": {
          "base_uri": "https://localhost:8080/",
          "height": 588
        }
      },
      "id": "RNAAZpd3lGE6",
      "execution_count": 34,
      "outputs": [
        {
          "output_type": "execute_result",
          "data": {
            "text/plain": [
              "<matplotlib.axes._subplots.AxesSubplot at 0x7f7355a2b690>"
            ]
          },
          "metadata": {},
          "execution_count": 34
        },
        {
          "output_type": "display_data",
          "data": {
            "text/plain": [
              "<Figure size 576x576 with 2 Axes>"
            ],
            "image/png": "[encoded data removed]"
          },
          "metadata": {
            "needs_background": "light"
          }
        }
      ]
    },
    {
      "cell_type": "markdown",
      "source": [
        "Here you can see that `Item_MRP` is highly correlated with `Item_Outlet_Sales` that means if MRP increases then sales increases."
      ],
      "metadata": {
        "id": "AeEvi0cs6jDn"
      },
      "id": "AeEvi0cs6jDn"
    },
    {
      "cell_type": "markdown",
      "source": [
        "###Statistical Analysis"
      ],
      "metadata": {
        "id": "Yt8XrRIO9A6y"
      },
      "id": "Yt8XrRIO9A6y"
    },
    {
      "cell_type": "markdown",
      "source": [
        "Now we will perform statistical analysis on our numerical column for checking that if they follow a `Normal Distribution` or not.\n"
      ],
      "metadata": {
        "id": "Qxq_zym19Tpi"
      },
      "id": "Qxq_zym19Tpi"
    },
    {
      "cell_type": "markdown",
      "source": [
        "We will take a `samp_size` of 35 and we are considering 1000 such samples for finding a mean of their mean."
      ],
      "metadata": {
        "id": "eNH-onmf9pHA"
      },
      "id": "eNH-onmf9pHA"
    },
    {
      "cell_type": "code",
      "source": [
        "samp_size=35"
      ],
      "metadata": {
        "id": "XbpVwyei3dwL"
      },
      "id": "XbpVwyei3dwL",
      "execution_count": 35,
      "outputs": []
    },
    {
      "cell_type": "code",
      "source": [
        "sample_means= [inp0.Item_Outlet_Sales.sample(samp_size).mean() for i in range(1000)]\n",
        "sample_means=pd.Series(sample_means)"
      ],
      "metadata": {
        "id": "K-71avkF-I5g"
      },
      "id": "K-71avkF-I5g",
      "execution_count": 36,
      "outputs": []
    },
    {
      "cell_type": "code",
      "source": [
        "sample_means.mean()"
      ],
      "metadata": {
        "id": "TYaUS0mS-yxH",
        "outputId": "b95b4e98-7a16-4311-b51c-ac4ff23c9d2c",
        "colab": {
          "base_uri": "https://localhost:8080/"
        }
      },
      "id": "TYaUS0mS-yxH",
      "execution_count": 37,
      "outputs": [
        {
          "output_type": "execute_result",
          "data": {
            "text/plain": [
              "2177.878444045715"
            ]
          },
          "metadata": {},
          "execution_count": 37
        }
      ]
    },
    {
      "cell_type": "code",
      "source": [
        "inp0.Item_Outlet_Sales.mean()"
      ],
      "metadata": {
        "id": "2o57Bypf-6aD",
        "outputId": "e893fe7f-f6f7-401d-ffb0-deddfca62fc2",
        "colab": {
          "base_uri": "https://localhost:8080/"
        }
      },
      "id": "2o57Bypf-6aD",
      "execution_count": 38,
      "outputs": [
        {
          "output_type": "execute_result",
          "data": {
            "text/plain": [
              "2181.288913575032"
            ]
          },
          "metadata": {},
          "execution_count": 38
        }
      ]
    },
    {
      "cell_type": "markdown",
      "source": [
        "Here, you can see that our sample mean is approximately same as population mean of `Item_Outlet_Sales`.\n",
        "Now we will plot it and see whether it follow a normal distribution or not."
      ],
      "metadata": {
        "id": "KqIagADt-R6v"
      },
      "id": "KqIagADt-R6v"
    },
    {
      "cell_type": "code",
      "source": [
        "sns.distplot(sample_means)\n",
        "plt.xlabel('Item_Outlet_Sales',fontsize=18)\n",
        "plt.show()"
      ],
      "metadata": {
        "id": "V1fpTlfI_C8H",
        "outputId": "a352c260-81e5-45ec-f564-06f0b9ebcc44",
        "colab": {
          "base_uri": "https://localhost:8080/",
          "height": 290
        }
      },
      "id": "V1fpTlfI_C8H",
      "execution_count": 39,
      "outputs": [
        {
          "output_type": "display_data",
          "data": {
            "text/plain": [
              "<Figure size 432x288 with 1 Axes>"
            ],
            "image/png": "[encoded data removed]"
          },
          "metadata": {
            "needs_background": "light"
          }
        }
      ]
    },
    {
      "cell_type": "markdown",
      "source": [
        "As you can see it follow a Normal Distribution. Similarly we will do `Item_MRP` also."
      ],
      "metadata": {
        "id": "2354fzTm-yj1"
      },
      "id": "2354fzTm-yj1"
    },
    {
      "cell_type": "code",
      "source": [
        "sample_means= [inp0.Item_MRP.sample(samp_size).mean() for i in range(1000)]\n",
        "sample_means=pd.Series(sample_means)"
      ],
      "metadata": {
        "id": "ORDIun5S_tcU"
      },
      "id": "ORDIun5S_tcU",
      "execution_count": 40,
      "outputs": []
    },
    {
      "cell_type": "code",
      "source": [
        "sample_means.mean()"
      ],
      "metadata": {
        "id": "WdznzwTnApWV",
        "outputId": "0f2527be-d067-4488-9c16-8b8789ade3a3",
        "colab": {
          "base_uri": "https://localhost:8080/"
        }
      },
      "id": "WdznzwTnApWV",
      "execution_count": 41,
      "outputs": [
        {
          "output_type": "execute_result",
          "data": {
            "text/plain": [
              "140.75114956"
            ]
          },
          "metadata": {},
          "execution_count": 41
        }
      ]
    },
    {
      "cell_type": "code",
      "source": [
        "inp0.Item_MRP.mean()"
      ],
      "metadata": {
        "id": "h4hQfFhTAvsF",
        "outputId": "a4ca05f7-56d7-44de-ff54-161d79096e96",
        "colab": {
          "base_uri": "https://localhost:8080/"
        }
      },
      "id": "h4hQfFhTAvsF",
      "execution_count": 42,
      "outputs": [
        {
          "output_type": "execute_result",
          "data": {
            "text/plain": [
              "140.9927819781767"
            ]
          },
          "metadata": {},
          "execution_count": 42
        }
      ]
    },
    {
      "cell_type": "code",
      "source": [
        "sns.distplot(sample_means)\n",
        "plt.xlabel('Item_MRP',fontsize=18)\n",
        "plt.show()"
      ],
      "metadata": {
        "id": "L5dO82AGAzZw",
        "outputId": "b53cdb9a-5e98-4974-aa9c-613b39b9bcdc",
        "colab": {
          "base_uri": "https://localhost:8080/",
          "height": 287
        }
      },
      "id": "L5dO82AGAzZw",
      "execution_count": 43,
      "outputs": [
        {
          "output_type": "display_data",
          "data": {
            "text/plain": [
              "<Figure size 432x288 with 1 Axes>"
            ],
            "image/png": "[encoded data removed]"
          },
          "metadata": {
            "needs_background": "light"
          }
        }
      ]
    },
    {
      "cell_type": "markdown",
      "source": [
        "It also follows a Normal Distributions."
      ],
      "metadata": {
        "id": "6jE4ibun_TS0"
      },
      "id": "6jE4ibun_TS0"
    },
    {
      "cell_type": "markdown",
      "source": [
        "###Multivariate Analysis"
      ],
      "metadata": {
        "id": "DnnDKFhZ_7ay"
      },
      "id": "DnnDKFhZ_7ay"
    },
    {
      "cell_type": "code",
      "source": [
        "plt.figure(figsize=(20,12))\n",
        "sns.barplot('Item_Type' ,'Item_Outlet_Sales', data=inp0,hue='Item_Fat_Content')\n"
      ],
      "metadata": {
        "id": "Cmq7R1mTCcu8",
        "outputId": "2ccaea9d-c89d-46a3-880e-f1d3b954100d",
        "colab": {
          "base_uri": "https://localhost:8080/",
          "height": 732
        }
      },
      "id": "Cmq7R1mTCcu8",
      "execution_count": 44,
      "outputs": [
        {
          "output_type": "execute_result",
          "data": {
            "text/plain": [
              "<matplotlib.axes._subplots.AxesSubplot at 0x7f7355dbe4d0>"
            ]
          },
          "metadata": {},
          "execution_count": 44
        },
        {
          "output_type": "display_data",
          "data": {
            "text/plain": [
              "<Figure size 1440x864 with 1 Axes>"
            ],
            "image/png": "[encoded data removed]"
          },
          "metadata": {
            "needs_background": "light"
          }
        }
      ]
    },
    {
      "cell_type": "markdown",
      "source": [
        "We had performed an multivariate analysis on `Item_Type` , `Item_Outlet_Sales` & `Item_Fat_Content`. In this we can see that `Seafood` is having highest sales in which fat content is `Regular`. In all others item type `Low Fat` & `Regular` are having almost even sales."
      ],
      "metadata": {
        "id": "bElIMJ0tfNOh"
      },
      "id": "bElIMJ0tfNOh"
    },
    {
      "cell_type": "code",
      "source": [
        "plt.figure(figsize=(30,12))\n",
        "sns.barplot('Item_Type' ,'Item_Outlet_Sales', data=inp0,hue='Outlet_Type')\n"
      ],
      "metadata": {
        "id": "rRXP_UgPZWV3",
        "outputId": "f906fb9a-cc86-4289-d4c6-247bdef51506",
        "colab": {
          "base_uri": "https://localhost:8080/",
          "height": 732
        }
      },
      "id": "rRXP_UgPZWV3",
      "execution_count": 45,
      "outputs": [
        {
          "output_type": "execute_result",
          "data": {
            "text/plain": [
              "<matplotlib.axes._subplots.AxesSubplot at 0x7f73587b7890>"
            ]
          },
          "metadata": {},
          "execution_count": 45
        },
        {
          "output_type": "display_data",
          "data": {
            "text/plain": [
              "<Figure size 2160x864 with 1 Axes>"
            ],
            "image/png": "[encoded data removed]"
          },
          "metadata": {
            "needs_background": "light"
          }
        }
      ]
    },
    {
      "cell_type": "markdown",
      "source": [
        "In this we had taken `Item_Type`,`Item_Outlet_Sales`& `Outlet_Type`. We had find that `Supermarket Type3` is having highest sales for all the item type whereas `Grocery Store` is having least sales for all the item type."
      ],
      "metadata": {
        "id": "ZmmkKLOmiOLd"
      },
      "id": "ZmmkKLOmiOLd"
    },
    {
      "cell_type": "markdown",
      "source": [
        "Now we have done with our analysis part and we have found that some of the column is of no use so we should drop them. `Item_Identifier` & `Outlet_Identifier` is of no use so will drop them."
      ],
      "metadata": {
        "id": "KM_ks7rblAyl"
      },
      "id": "KM_ks7rblAyl"
    },
    {
      "cell_type": "code",
      "source": [
        "inp0.drop(['Item_Identifier', 'Outlet_Identifier'], axis=1, inplace=True)\n"
      ],
      "metadata": {
        "id": "vYu9vdsrk4cy",
        "outputId": "6db15da8-fbca-43e1-d587-d5ef4ad811e4",
        "colab": {
          "base_uri": "https://localhost:8080/",
          "height": 311
        }
      },
      "id": "vYu9vdsrk4cy",
      "execution_count": 59,
      "outputs": [
        {
          "output_type": "error",
          "ename": "KeyError",
          "evalue": "ignored",
          "traceback": [
            "\u001b[0;31m---------------------------------------------------------------------------\u001b[0m",
            "\u001b[0;31mKeyError\u001b[0m                                  Traceback (most recent call last)",
            "\u001b[0;32m<ipython-input-59-280b9b5c5a7e>\u001b[0m in \u001b[0;36m<module>\u001b[0;34m\u001b[0m\n\u001b[0;32m----> 1\u001b[0;31m \u001b[0minp0\u001b[0m\u001b[0;34m.\u001b[0m\u001b[0mdrop\u001b[0m\u001b[0;34m(\u001b[0m\u001b[0;34m[\u001b[0m\u001b[0;34m'Item_Identifier'\u001b[0m\u001b[0;34m,\u001b[0m \u001b[0;34m'Outlet_Identifier'\u001b[0m\u001b[0;34m]\u001b[0m\u001b[0;34m,\u001b[0m \u001b[0maxis\u001b[0m\u001b[0;34m=\u001b[0m\u001b[0;36m1\u001b[0m\u001b[0;34m,\u001b[0m \u001b[0minplace\u001b[0m\u001b[0;34m=\u001b[0m\u001b[0;32mTrue\u001b[0m\u001b[0;34m)\u001b[0m\u001b[0;34m\u001b[0m\u001b[0;34m\u001b[0m\u001b[0m\n\u001b[0m",
            "\u001b[0;32m/usr/local/lib/python3.7/dist-packages/pandas/util/_decorators.py\u001b[0m in \u001b[0;36mwrapper\u001b[0;34m(*args, **kwargs)\u001b[0m\n\u001b[1;32m    309\u001b[0m                     \u001b[0mstacklevel\u001b[0m\u001b[0;34m=\u001b[0m\u001b[0mstacklevel\u001b[0m\u001b[0;34m,\u001b[0m\u001b[0;34m\u001b[0m\u001b[0;34m\u001b[0m\u001b[0m\n\u001b[1;32m    310\u001b[0m                 )\n\u001b[0;32m--> 311\u001b[0;31m             \u001b[0;32mreturn\u001b[0m \u001b[0mfunc\u001b[0m\u001b[0;34m(\u001b[0m\u001b[0;34m*\u001b[0m\u001b[0margs\u001b[0m\u001b[0;34m,\u001b[0m \u001b[0;34m**\u001b[0m\u001b[0mkwargs\u001b[0m\u001b[0;34m)\u001b[0m\u001b[0;34m\u001b[0m\u001b[0;34m\u001b[0m\u001b[0m\n\u001b[0m\u001b[1;32m    312\u001b[0m \u001b[0;34m\u001b[0m\u001b[0m\n\u001b[1;32m    313\u001b[0m         \u001b[0;32mreturn\u001b[0m \u001b[0mwrapper\u001b[0m\u001b[0;34m\u001b[0m\u001b[0;34m\u001b[0m\u001b[0m\n",
            "\u001b[0;32m/usr/local/lib/python3.7/dist-packages/pandas/core/frame.py\u001b[0m in \u001b[0;36mdrop\u001b[0;34m(self, labels, axis, index, columns, level, inplace, errors)\u001b[0m\n\u001b[1;32m   4911\u001b[0m             \u001b[0mlevel\u001b[0m\u001b[0;34m=\u001b[0m\u001b[0mlevel\u001b[0m\u001b[0;34m,\u001b[0m\u001b[0;34m\u001b[0m\u001b[0;34m\u001b[0m\u001b[0m\n\u001b[1;32m   4912\u001b[0m             \u001b[0minplace\u001b[0m\u001b[0;34m=\u001b[0m\u001b[0minplace\u001b[0m\u001b[0;34m,\u001b[0m\u001b[0;34m\u001b[0m\u001b[0;34m\u001b[0m\u001b[0m\n\u001b[0;32m-> 4913\u001b[0;31m             \u001b[0merrors\u001b[0m\u001b[0;34m=\u001b[0m\u001b[0merrors\u001b[0m\u001b[0;34m,\u001b[0m\u001b[0;34m\u001b[0m\u001b[0;34m\u001b[0m\u001b[0m\n\u001b[0m\u001b[1;32m   4914\u001b[0m         )\n\u001b[1;32m   4915\u001b[0m \u001b[0;34m\u001b[0m\u001b[0m\n",
            "\u001b[0;32m/usr/local/lib/python3.7/dist-packages/pandas/core/generic.py\u001b[0m in \u001b[0;36mdrop\u001b[0;34m(self, labels, axis, index, columns, level, inplace, errors)\u001b[0m\n\u001b[1;32m   4148\u001b[0m         \u001b[0;32mfor\u001b[0m \u001b[0maxis\u001b[0m\u001b[0;34m,\u001b[0m \u001b[0mlabels\u001b[0m \u001b[0;32min\u001b[0m \u001b[0maxes\u001b[0m\u001b[0;34m.\u001b[0m\u001b[0mitems\u001b[0m\u001b[0;34m(\u001b[0m\u001b[0;34m)\u001b[0m\u001b[0;34m:\u001b[0m\u001b[0;34m\u001b[0m\u001b[0;34m\u001b[0m\u001b[0m\n\u001b[1;32m   4149\u001b[0m             \u001b[0;32mif\u001b[0m \u001b[0mlabels\u001b[0m \u001b[0;32mis\u001b[0m \u001b[0;32mnot\u001b[0m \u001b[0;32mNone\u001b[0m\u001b[0;34m:\u001b[0m\u001b[0;34m\u001b[0m\u001b[0;34m\u001b[0m\u001b[0m\n\u001b[0;32m-> 4150\u001b[0;31m                 \u001b[0mobj\u001b[0m \u001b[0;34m=\u001b[0m \u001b[0mobj\u001b[0m\u001b[0;34m.\u001b[0m\u001b[0m_drop_axis\u001b[0m\u001b[0;34m(\u001b[0m\u001b[0mlabels\u001b[0m\u001b[0;34m,\u001b[0m \u001b[0maxis\u001b[0m\u001b[0;34m,\u001b[0m \u001b[0mlevel\u001b[0m\u001b[0;34m=\u001b[0m\u001b[0mlevel\u001b[0m\u001b[0;34m,\u001b[0m \u001b[0merrors\u001b[0m\u001b[0;34m=\u001b[0m\u001b[0merrors\u001b[0m\u001b[0;34m)\u001b[0m\u001b[0;34m\u001b[0m\u001b[0;34m\u001b[0m\u001b[0m\n\u001b[0m\u001b[1;32m   4151\u001b[0m \u001b[0;34m\u001b[0m\u001b[0m\n\u001b[1;32m   4152\u001b[0m         \u001b[0;32mif\u001b[0m \u001b[0minplace\u001b[0m\u001b[0;34m:\u001b[0m\u001b[0;34m\u001b[0m\u001b[0;34m\u001b[0m\u001b[0m\n",
            "\u001b[0;32m/usr/local/lib/python3.7/dist-packages/pandas/core/generic.py\u001b[0m in \u001b[0;36m_drop_axis\u001b[0;34m(self, labels, axis, level, errors)\u001b[0m\n\u001b[1;32m   4183\u001b[0m                 \u001b[0mnew_axis\u001b[0m \u001b[0;34m=\u001b[0m \u001b[0maxis\u001b[0m\u001b[0;34m.\u001b[0m\u001b[0mdrop\u001b[0m\u001b[0;34m(\u001b[0m\u001b[0mlabels\u001b[0m\u001b[0;34m,\u001b[0m \u001b[0mlevel\u001b[0m\u001b[0;34m=\u001b[0m\u001b[0mlevel\u001b[0m\u001b[0;34m,\u001b[0m \u001b[0merrors\u001b[0m\u001b[0;34m=\u001b[0m\u001b[0merrors\u001b[0m\u001b[0;34m)\u001b[0m\u001b[0;34m\u001b[0m\u001b[0;34m\u001b[0m\u001b[0m\n\u001b[1;32m   4184\u001b[0m             \u001b[0;32melse\u001b[0m\u001b[0;34m:\u001b[0m\u001b[0;34m\u001b[0m\u001b[0;34m\u001b[0m\u001b[0m\n\u001b[0;32m-> 4185\u001b[0;31m                 \u001b[0mnew_axis\u001b[0m \u001b[0;34m=\u001b[0m \u001b[0maxis\u001b[0m\u001b[0;34m.\u001b[0m\u001b[0mdrop\u001b[0m\u001b[0;34m(\u001b[0m\u001b[0mlabels\u001b[0m\u001b[0;34m,\u001b[0m \u001b[0merrors\u001b[0m\u001b[0;34m=\u001b[0m\u001b[0merrors\u001b[0m\u001b[0;34m)\u001b[0m\u001b[0;34m\u001b[0m\u001b[0;34m\u001b[0m\u001b[0m\n\u001b[0m\u001b[1;32m   4186\u001b[0m             \u001b[0mresult\u001b[0m \u001b[0;34m=\u001b[0m \u001b[0mself\u001b[0m\u001b[0;34m.\u001b[0m\u001b[0mreindex\u001b[0m\u001b[0;34m(\u001b[0m\u001b[0;34m**\u001b[0m\u001b[0;34m{\u001b[0m\u001b[0maxis_name\u001b[0m\u001b[0;34m:\u001b[0m \u001b[0mnew_axis\u001b[0m\u001b[0;34m}\u001b[0m\u001b[0;34m)\u001b[0m\u001b[0;34m\u001b[0m\u001b[0;34m\u001b[0m\u001b[0m\n\u001b[1;32m   4187\u001b[0m \u001b[0;34m\u001b[0m\u001b[0m\n",
            "\u001b[0;32m/usr/local/lib/python3.7/dist-packages/pandas/core/indexes/base.py\u001b[0m in \u001b[0;36mdrop\u001b[0;34m(self, labels, errors)\u001b[0m\n\u001b[1;32m   6015\u001b[0m         \u001b[0;32mif\u001b[0m \u001b[0mmask\u001b[0m\u001b[0;34m.\u001b[0m\u001b[0many\u001b[0m\u001b[0;34m(\u001b[0m\u001b[0;34m)\u001b[0m\u001b[0;34m:\u001b[0m\u001b[0;34m\u001b[0m\u001b[0;34m\u001b[0m\u001b[0m\n\u001b[1;32m   6016\u001b[0m             \u001b[0;32mif\u001b[0m \u001b[0merrors\u001b[0m \u001b[0;34m!=\u001b[0m \u001b[0;34m\"ignore\"\u001b[0m\u001b[0;34m:\u001b[0m\u001b[0;34m\u001b[0m\u001b[0;34m\u001b[0m\u001b[0m\n\u001b[0;32m-> 6017\u001b[0;31m                 \u001b[0;32mraise\u001b[0m \u001b[0mKeyError\u001b[0m\u001b[0;34m(\u001b[0m\u001b[0;34mf\"{labels[mask]} not found in axis\"\u001b[0m\u001b[0;34m)\u001b[0m\u001b[0;34m\u001b[0m\u001b[0;34m\u001b[0m\u001b[0m\n\u001b[0m\u001b[1;32m   6018\u001b[0m             \u001b[0mindexer\u001b[0m \u001b[0;34m=\u001b[0m \u001b[0mindexer\u001b[0m\u001b[0;34m[\u001b[0m\u001b[0;34m~\u001b[0m\u001b[0mmask\u001b[0m\u001b[0;34m]\u001b[0m\u001b[0;34m\u001b[0m\u001b[0;34m\u001b[0m\u001b[0m\n\u001b[1;32m   6019\u001b[0m         \u001b[0;32mreturn\u001b[0m \u001b[0mself\u001b[0m\u001b[0;34m.\u001b[0m\u001b[0mdelete\u001b[0m\u001b[0;34m(\u001b[0m\u001b[0mindexer\u001b[0m\u001b[0;34m)\u001b[0m\u001b[0;34m\u001b[0m\u001b[0;34m\u001b[0m\u001b[0m\n",
            "\u001b[0;31mKeyError\u001b[0m: \"['Item_Identifier' 'Outlet_Identifier'] not found in axis\""
          ]
        }
      ]
    },
    {
      "cell_type": "code",
      "source": [],
      "metadata": {
        "id": "LUcJb-kyQsdI"
      },
      "id": "LUcJb-kyQsdI",
      "execution_count": null,
      "outputs": []
    }
  ],
  "metadata": {
    "kernelspec": {
      "display_name": "Python 3 (ipykernel)",
      "language": "python",
      "name": "python3"
    },
    "language_info": {
      "codemirror_mode": {
        "name": "ipython",
        "version": 3
      },
      "file_extension": ".py",
      "mimetype": "text/x-python",
      "name": "python",
      "nbconvert_exporter": "python",
      "pygments_lexer": "ipython3",
      "version": "3.9.7"
    },
    "colab": {
      "provenance": [],
      "collapsed_sections": [
        "8f13d996",
        "916408fe",
        "c588f85e"
      ],
      "include_colab_link": true
    }
  },
  "nbformat": 4,
  "nbformat_minor": 5
}